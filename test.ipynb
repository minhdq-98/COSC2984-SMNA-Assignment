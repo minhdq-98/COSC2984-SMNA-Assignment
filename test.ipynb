{
 "cells": [
  {
   "cell_type": "code",
   "execution_count": 1,
   "id": "593f174c-f5ba-4fc0-904b-357c3c4aaa79",
   "metadata": {},
   "outputs": [],
   "source": [
    "import torch\n",
    "from torch import nn\n",
    "from torch.utils.data import DataLoader\n",
    "from torchvision import datasets\n",
    "from torchvision.transforms import ToTensor"
   ]
  },
  {
   "cell_type": "code",
   "execution_count": 2,
   "id": "f3ca2152-3803-46de-816d-333e6de80df7",
   "metadata": {
    "execution": {
     "iopub.execute_input": "2025-05-09T02:40:23.695428Z",
     "iopub.status.busy": "2025-05-09T02:40:23.695187Z",
     "iopub.status.idle": "2025-05-09T02:40:25.518702Z",
     "shell.execute_reply": "2025-05-09T02:40:25.518083Z",
     "shell.execute_reply.started": "2025-05-09T02:40:23.695416Z"
    }
   },
   "outputs": [
    {
     "name": "stdout",
     "output_type": "stream",
     "text": [
      "Collecting torch_geometric\n",
      "  Downloading torch_geometric-2.6.1-py3-none-any.whl.metadata (63 kB)\n",
      "Requirement already satisfied: aiohttp in /home/dang/miniconda3/envs/graph_sm/lib/python3.12/site-packages (from torch_geometric) (3.11.16)\n",
      "Requirement already satisfied: fsspec in /home/dang/miniconda3/envs/graph_sm/lib/python3.12/site-packages (from torch_geometric) (2024.6.1)\n",
      "Requirement already satisfied: jinja2 in /home/dang/miniconda3/envs/graph_sm/lib/python3.12/site-packages (from torch_geometric) (3.1.6)\n",
      "Requirement already satisfied: numpy in /home/dang/miniconda3/envs/graph_sm/lib/python3.12/site-packages (from torch_geometric) (2.0.2)\n",
      "Requirement already satisfied: psutil>=5.8.0 in /home/dang/miniconda3/envs/graph_sm/lib/python3.12/site-packages (from torch_geometric) (7.0.0)\n",
      "Requirement already satisfied: pyparsing in /home/dang/miniconda3/envs/graph_sm/lib/python3.12/site-packages (from torch_geometric) (3.2.3)\n",
      "Requirement already satisfied: requests in /home/dang/miniconda3/envs/graph_sm/lib/python3.12/site-packages (from torch_geometric) (2.32.3)\n",
      "Requirement already satisfied: tqdm in /home/dang/miniconda3/envs/graph_sm/lib/python3.12/site-packages (from torch_geometric) (4.67.1)\n",
      "Requirement already satisfied: aiohappyeyeballs>=2.3.0 in /home/dang/miniconda3/envs/graph_sm/lib/python3.12/site-packages (from aiohttp->torch_geometric) (2.6.1)\n",
      "Requirement already satisfied: aiosignal>=1.1.2 in /home/dang/miniconda3/envs/graph_sm/lib/python3.12/site-packages (from aiohttp->torch_geometric) (1.3.2)\n",
      "Requirement already satisfied: attrs>=17.3.0 in /home/dang/miniconda3/envs/graph_sm/lib/python3.12/site-packages (from aiohttp->torch_geometric) (25.3.0)\n",
      "Requirement already satisfied: frozenlist>=1.1.1 in /home/dang/miniconda3/envs/graph_sm/lib/python3.12/site-packages (from aiohttp->torch_geometric) (1.5.0)\n",
      "Requirement already satisfied: multidict<7.0,>=4.5 in /home/dang/miniconda3/envs/graph_sm/lib/python3.12/site-packages (from aiohttp->torch_geometric) (6.3.2)\n",
      "Requirement already satisfied: propcache>=0.2.0 in /home/dang/miniconda3/envs/graph_sm/lib/python3.12/site-packages (from aiohttp->torch_geometric) (0.3.1)\n",
      "Requirement already satisfied: yarl<2.0,>=1.17.0 in /home/dang/miniconda3/envs/graph_sm/lib/python3.12/site-packages (from aiohttp->torch_geometric) (1.18.3)\n",
      "Requirement already satisfied: MarkupSafe>=2.0 in /home/dang/miniconda3/envs/graph_sm/lib/python3.12/site-packages (from jinja2->torch_geometric) (3.0.2)\n",
      "Requirement already satisfied: charset_normalizer<4,>=2 in /home/dang/miniconda3/envs/graph_sm/lib/python3.12/site-packages (from requests->torch_geometric) (3.4.1)\n",
      "Requirement already satisfied: idna<4,>=2.5 in /home/dang/miniconda3/envs/graph_sm/lib/python3.12/site-packages (from requests->torch_geometric) (3.10)\n",
      "Requirement already satisfied: urllib3<3,>=1.21.1 in /home/dang/miniconda3/envs/graph_sm/lib/python3.12/site-packages (from requests->torch_geometric) (2.4.0)\n",
      "Requirement already satisfied: certifi>=2017.4.17 in /home/dang/miniconda3/envs/graph_sm/lib/python3.12/site-packages (from requests->torch_geometric) (2025.1.31)\n",
      "Downloading torch_geometric-2.6.1-py3-none-any.whl (1.1 MB)\n",
      "\u001b[2K   \u001b[90m━━━━━━━━━━━━━━━━━━━━━━━━━━━━━━━━━━━━━━━━\u001b[0m \u001b[32m1.1/1.1 MB\u001b[0m \u001b[31m11.7 MB/s\u001b[0m eta \u001b[36m0:00:00\u001b[0m\n",
      "\u001b[?25hInstalling collected packages: torch_geometric\n",
      "Successfully installed torch_geometric-2.6.1\n"
     ]
    }
   ],
   "source": [
    "!pip install torch_geometric"
   ]
  },
  {
   "cell_type": "code",
   "execution_count": 3,
   "id": "f981cf30-67ef-41a3-bf4f-32128c39f8a6",
   "metadata": {
    "execution": {
     "iopub.execute_input": "2025-05-09T02:44:05.463633Z",
     "iopub.status.busy": "2025-05-09T02:44:05.463041Z",
     "iopub.status.idle": "2025-05-09T02:44:09.323528Z",
     "shell.execute_reply": "2025-05-09T02:44:09.323048Z",
     "shell.execute_reply.started": "2025-05-09T02:44:05.463615Z"
    }
   },
   "outputs": [
    {
     "data": {
      "text/html": [
       "<pre style=\"white-space:pre;overflow-x:auto;line-height:normal;font-family:Menlo,'DejaVu Sans Mono',consolas,'Courier New',monospace\">Accessing as quangbhdang\n",
       "</pre>\n"
      ],
      "text/plain": [
       "Accessing as quangbhdang\n"
      ]
     },
     "metadata": {},
     "output_type": "display_data"
    },
    {
     "data": {
      "text/html": [
       "<pre style=\"white-space:pre;overflow-x:auto;line-height:normal;font-family:Menlo,'DejaVu Sans Mono',consolas,'Courier New',monospace\">Initialized MLflow to track repo <span style=\"color: #008000; text-decoration-color: #008000\">\"quangbhdang/COSC2984-SMNA-Assignment\"</span>\n",
       "</pre>\n"
      ],
      "text/plain": [
       "Initialized MLflow to track repo \u001b[32m\"quangbhdang/COSC2984-SMNA-Assignment\"\u001b[0m\n"
      ]
     },
     "metadata": {},
     "output_type": "display_data"
    },
    {
     "data": {
      "text/html": [
       "<pre style=\"white-space:pre;overflow-x:auto;line-height:normal;font-family:Menlo,'DejaVu Sans Mono',consolas,'Courier New',monospace\">Repository quangbhdang/COSC2984-SMNA-Assignment initialized!\n",
       "</pre>\n"
      ],
      "text/plain": [
       "Repository quangbhdang/COSC2984-SMNA-Assignment initialized!\n"
      ]
     },
     "metadata": {},
     "output_type": "display_data"
    }
   ],
   "source": [
    "import dagshub\n",
    "dagshub.init(repo_owner='quangbhdang', repo_name='COSC2984-SMNA-Assignment', mlflow=True)"
   ]
  },
  {
   "cell_type": "code",
   "execution_count": 4,
   "id": "877500ca-e7a2-40b5-9957-f581edf00e7b",
   "metadata": {
    "execution": {
     "iopub.execute_input": "2025-05-09T02:44:23.412652Z",
     "iopub.status.busy": "2025-05-09T02:44:23.412333Z",
     "iopub.status.idle": "2025-05-09T02:44:31.834866Z",
     "shell.execute_reply": "2025-05-09T02:44:31.834263Z",
     "shell.execute_reply.started": "2025-05-09T02:44:23.412640Z"
    },
    "scrolled": true
   },
   "outputs": [
    {
     "data": {
      "application/vnd.jupyter.widget-view+json": {
       "model_id": "71fb4b018bad47279ac8c2d8f6cb9a72",
       "version_major": 2,
       "version_minor": 0
      },
      "text/plain": [
       "Output()"
      ]
     },
     "metadata": {},
     "output_type": "display_data"
    },
    {
     "data": {
      "text/html": [
       "<pre style=\"white-space:pre;overflow-x:auto;line-height:normal;font-family:Menlo,'DejaVu Sans Mono',consolas,'Courier New',monospace\"></pre>\n"
      ],
      "text/plain": []
     },
     "metadata": {},
     "output_type": "display_data"
    },
    {
     "data": {
      "text/html": [
       "<pre style=\"white-space:pre;overflow-x:auto;line-height:normal;font-family:Menlo,'DejaVu Sans Mono',consolas,'Courier New',monospace\">Directory upload complete, uploaded <span style=\"color: #008080; text-decoration-color: #008080; font-weight: bold\">2</span> files to \n",
       "<span style=\"color: #0000ff; text-decoration-color: #0000ff; text-decoration: underline\">https://dagshub.com/quangbhdang/COSC2984-SMNA-Assignment/src/main/Dataset%2FSo-Spam</span>\n",
       "</pre>\n"
      ],
      "text/plain": [
       "Directory upload complete, uploaded \u001b[1;36m2\u001b[0m files to \n",
       "\u001b[4;94mhttps://dagshub.com/quangbhdang/COSC2984-SMNA-Assignment/src/main/Dataset%2FSo-Spam\u001b[0m\n"
      ]
     },
     "metadata": {},
     "output_type": "display_data"
    }
   ],
   "source": [
    "# Upload using the DagsHub client, to a DVC tracked folder also called \"data\".\n",
    "# Follow the instructions that appear to authorize the request.\n",
    "from dagshub import upload_files\n",
    "\n",
    "dagshub.upload_files('quangbhdang/COSC2984-SMNA-Assignment', 'Dataset/So-Spam/')"
   ]
  },
  {
   "cell_type": "code",
   "execution_count": 1,
   "id": "93bc9806-1fdd-49cc-aec4-e12e1c70ace2",
   "metadata": {
    "execution": {
     "iopub.execute_input": "2025-05-21T08:39:45.925401Z",
     "iopub.status.busy": "2025-05-21T08:39:45.925080Z",
     "iopub.status.idle": "2025-05-21T08:40:19.667003Z",
     "shell.execute_reply": "2025-05-21T08:40:19.666448Z",
     "shell.execute_reply.started": "2025-05-21T08:39:45.925384Z"
    }
   },
   "outputs": [
    {
     "name": "stdout",
     "output_type": "stream",
     "text": [
      "Root path /home/dang/project/COSC2984-SMNA-Assignment/Dataset\n",
      "Loading train.json\n",
      "Loading test.json\n",
      "Loading support.json\n",
      "Loaded 0 records...\n",
      "Loaded 50000 records...\n",
      "Loaded 100000 records...\n",
      "Loaded 150000 records...\n",
      "Loaded 200000 records...\n",
      "Loading dev.json\n",
      "Finished\n"
     ]
    }
   ],
   "source": [
    "from Dataset.Dataset import Twibot20\n",
    "\n",
    "Twibot22 = Twibot20()"
   ]
  }
 ],
 "metadata": {
  "kernelspec": {
   "display_name": "Python 3 (ipykernel)",
   "language": "python",
   "name": "python3"
  },
  "language_info": {
   "codemirror_mode": {
    "name": "ipython",
    "version": 3
   },
   "file_extension": ".py",
   "mimetype": "text/x-python",
   "name": "python",
   "nbconvert_exporter": "python",
   "pygments_lexer": "ipython3",
   "version": "3.12.9"
  }
 },
 "nbformat": 4,
 "nbformat_minor": 5
}
