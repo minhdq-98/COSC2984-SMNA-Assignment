{
 "cells": [
  {
   "cell_type": "code",
   "execution_count": null,
   "id": "59dda4ce-9cf8-4660-9e5f-dc344298236b",
   "metadata": {},
   "outputs": [],
   "source": [
    "#%%writefile Twibot22.py\n",
    "\n",
    "from gdown \n",
    "import os\n",
    "\n",
    "file_url = 'https://drive.google.com/file/d/1bL0iRSWgd1SH592gSCXTtoJ3K1ceLwEW/view?usp=drive_link'\n",
    "output = 'Twibot-20.zip'\n",
    "\n",
    "gdown.download(url=file_url_, output=output, fuzzy=True)"
   ]
  },
  {
   "cell_type": "code",
   "execution_count": null,
   "id": "dfb8109a-6da7-49dc-89bf-a5e65bbb67ab",
   "metadata": {},
   "outputs": [],
   "source": []
  }
 ],
 "metadata": {
  "kernelspec": {
   "display_name": "Python 3 (ipykernel)",
   "language": "python",
   "name": "python3"
  },
  "language_info": {
   "codemirror_mode": {
    "name": "ipython",
    "version": 3
   },
   "file_extension": ".py",
   "mimetype": "text/x-python",
   "name": "python",
   "nbconvert_exporter": "python",
   "pygments_lexer": "ipython3",
   "version": "3.12.9"
  }
 },
 "nbformat": 4,
 "nbformat_minor": 5
}
